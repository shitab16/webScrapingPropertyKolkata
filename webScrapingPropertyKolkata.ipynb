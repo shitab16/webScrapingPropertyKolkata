{
  "nbformat": 4,
  "nbformat_minor": 0,
  "metadata": {
    "colab": {
      "name": "webScrapingPropertyKolkata.ipynb",
      "provenance": [],
      "collapsed_sections": []
    },
    "kernelspec": {
      "name": "python3",
      "display_name": "Python 3"
    },
    "language_info": {
      "name": "python"
    }
  },
  "cells": [
    {
      "cell_type": "code",
      "source": [
        "from bs4 import BeautifulSoup\n",
        "import requests\n",
        "import pandas as pd\n",
        "import lxml\n",
        "import json"
      ],
      "metadata": {
        "id": "OCcsBL14bSxt"
      },
      "execution_count": 5,
      "outputs": []
    },
    {
      "cell_type": "code",
      "source": [
        "link= \"https://www.makaan.com/kolkata-residential-property/buy-property-in-kolkata-city\"\n",
        "html_page= requests.get(link).text\n",
        "page_soup= BeautifulSoup(html_page, 'lxml') "
      ],
      "metadata": {
        "id": "NpLoTP3PE_ZC"
      },
      "execution_count": 2,
      "outputs": []
    },
    {
      "cell_type": "code",
      "source": [
        "listing= page_soup.find('li', class_=\"cardholder\" )"
      ],
      "metadata": {
        "id": "Ig7vp1-LqXEi"
      },
      "execution_count": 3,
      "outputs": []
    },
    {
      "cell_type": "code",
      "source": [
        "len(listing)"
      ],
      "metadata": {
        "id": "UB0KxLMhtN9j",
        "outputId": "ced95e31-b1a5-4f9f-d822-02b695e9ca99",
        "colab": {
          "base_uri": "https://localhost:8080/"
        }
      },
      "execution_count": 4,
      "outputs": [
        {
          "output_type": "execute_result",
          "data": {
            "text/plain": [
              "1"
            ]
          },
          "metadata": {},
          "execution_count": 4
        }
      ]
    },
    {
      "cell_type": "code",
      "source": [
        "print(listing.div)"
      ],
      "metadata": {
        "colab": {
          "base_uri": "https://localhost:8080/"
        },
        "id": "NoJMTDQdTnTF",
        "outputId": "1057c45d-4d6c-4d8f-b7bc-35e4cd837f75"
      },
      "execution_count": 5,
      "outputs": [
        {
          "output_type": "stream",
          "name": "stdout",
          "text": [
            "<div class=\"cardWrapper \" data-listing-id=\"17821751\" data-listing-projectid=\"1722070\" data-module=\"listing\" data-track-scroll=\"1\"><script type=\"text/x-config\">{\"selector\":\"listing_17821751\",\"sellerType\":\"BUILDER\",\"builderId\":105888,\"builderName\":\"Jai Vinayak Group\",\"companyType\":\"BUILDER\",\"companyId\":100084579,\"companyUserId\":100908764,\"companyImage\":\"https://static.makaan.com/11/100084579/289/103370735.jpeg?width=130&amp;height=100\",\"backgroundColor\":\"#e9eddd\",\"textColor\":\"#fff\",\"nameText\":\"J\",\"companyName\":\"Jai Vinayak Group\",\"companyRating\":0,\"verificationDate\":1645986600000,\"serverTime\":1646229596469,\"listingUrl\":\"https://www.makaan.com/kolkata/jai-vinayak-group-vinayak-golden-acres-in-konnagar-17821751/2bhk-736-sqft-apartment\",\"imageUrl\":\"https://static.makaan.com/1/1722070/291/golden-acres-others-122615710.jpeg?width=460&amp;height=260\",\"id\":17821751,\"propertyId\":9456470,\"projectId\":1722070,\"projectName\":\"Vinayak Golden Acres\",\"projectStatus\":\"Under Construction\",\"mainImageId\":\"\",\"imageCount\":38,\"latitude\":22.70612144,\"longitude\":88.34746552,\"localityName\":\"Konnagar\",\"suburbName\":\"Kolkata West\",\"cityName\":\"Kolkata\",\"fullName\":\"Jai Vinayak Vinayak Golden Acres\",\"localityUrl\":\"https://www.makaan.com/kolkata/konnagar-real-estate-52111\",\"rank\":1,\"price\":1968800,\"unitTypeId\":1,\"propertyType\":\"Apartment\",\"bedrooms\":2,\"isPlot\":false,\"isApartment\":true,\"localityId\":52111,\"suburbId\":10039,\"cityId\":16,\"listingScore\":4,\"listingCategory\":\"Primary\",\"isCommercial\":\"\",\"size\":\"736 sq ft\",\"isRk\":false,\"isPentHouse\":false,\"isStudio\":false,\"defaultImageId\":\"\",\"sellerCallRatingCount\":0,\"sellerCompanyFeedbackCount\":0,\"isAccountLocked\":false,\"isPaidSeller\":false,\"sellerTransactionStatus\":{\"isExpertDealMaker\":false,\"isDealMaker\":false,\"typeLabel\":\"\"},\"isOriginalSearchResult\":true,\"isMakaanSelectSeller\":false,\"mainImageWidth\":1552,\"mainImageHeight\":900,\"leadType\":\"paid\",\"reraInfo\":\"reraRegistered\",\"isMPMatchTagListing\":\"false\",\"listingDomain\":\"housing\"}</script><div class=\"cardLayout clearfix\" data-type=\"listing-card\" itemid=\"https://www.makaan.com/kolkata/jai-vinayak-group-vinayak-golden-acres-in-konnagar-17821751/2bhk-736-sqft-apartment\" itemref=\"itemNameFor-17821751\" itemscope=\"\" itemtype=\"http://schema.org/Apartment\"><meta content=\"https://www.makaan.com/kolkata/jai-vinayak-group-vinayak-golden-acres-in-konnagar-17821751/2bhk-736-sqft-apartment\" itemprop=\"url\"/><div itemprop=\"geo\" itemscope=\"\" itemtype=\"http://schema.org/GeoCoordinates\"><meta content=\"22.70612144\" itemprop=\"latitude\"/><meta content=\"88.34746552\" itemprop=\"longitude\"/></div><meta content=\"2\" itemprop=\"numberOfRooms\"/><meta content=\"Itâs a 2 bhk multistorey apartment situated in Jai Vinayak Group Vinayak Golden Acres, Konnagar. It has an area of 736 sqft . The property is available at a price of Rs. 19.69 lac . It is an unfurnish...\" data-p9ignore=\"true\" itemprop=\"description\"/><div class=\"imgWrap dummy-placeholder\"><div class=\"img-slide gallerywrap \"><div class=\"gallerywrap\" data-lazymodule=\"carousel\" data-loadon=\"afterLoad\" data-type=\"image-div\" id=\"carousel-17821751\"><script type=\"text/x-config\">{\"id\":17821751,\"dataAwaited\": true,\"isMobile\": false}</script><span class=\"img-ldr\"><i class=\"icon-reset\"><span class=\"path1\"></span><span class=\"path2\"></span><span class=\"path3\"></span><span class=\"path4\"></span></i></span><div class=\"btn-prev js-showOnHover hide\" data-type=\"back-btn\"> <i class=\"icon-chevron-left\"></i></div><div class=\"btn-next js-showOnHover hide\" data-type=\"next-btn\"> <i class=\"icon-chevron-right\"></i></div><div class=\"gallimgcntnr clearfix\" data-container=\"image-gallery\"><div class=\"img-slide\" data-index=\"0\"><figure><meta content=\"https://static.makaan.com/1/1722070/291/golden-acres-others-122615710.jpeg?width=460&amp;height=260\" id=\"itemImageFor-17821751\" itemprop=\"image\"/><img alt=\" golden-acres Others\" data-src=\"https://static.makaan.com/1/1722070/291/golden-acres-others-122615710.jpeg?width=460&amp;height=260\" height=\"260\" src=\"//static.makaan.com/images/dummyPX.e679fbd4.png\" title=\"Others\"/></figure></div></div><div class=\"dot-container \"><div class=\"dots\" style=\"width: 65px\"><span class=\"dot active\"></span><span class=\"dot \"></span><span class=\"dot \"></span><span class=\"dot \"></span><span class=\"dot \"></span><span class=\"dot \"></span></div></div></div></div><div class=\"badge-wrap\"><div class=\"newBadge hide\" data-js-seen=\"17821751\">new</div></div><div class=\"seller-row\" itemprop=\"potentialAction\" itemscope=\"\" itemtype=\"http://schema.org/BuyAction\"><div class=\"seller-wrap clearfix\" data-type=\"seller-listings\" itemprop=\"agent\" itemscope=\"\" itemtype=\"http://schema.org/Person\"><div class=\"slr-img\"><meta content=\"https://static.makaan.com/11/100084579/289/103370735.jpeg?width=130&amp;height=100\" itemprop=\"image\"/><div class=\"seller-img-box dummy-agent-bground\" data-background-image=\"https://static.makaan.com/11/100084579/289/103370735.jpeg?width=130&amp;height=100\" style=\"background-color: #e9eddd\"><span class=\"highlighter-badge\"></span></div></div><div class=\"seller-info\"><a class=\"seller-name \" data-builderview=\"false\" data-isclickable=\"true\" data-link-name=\"Jai Vinayak Group (BUILDER)\" data-link-type=\"serp BUILDER\" data-sellerview=\"false\" data-type=\"seller-profile\" href=\"https://www.makaan.com/jai-vinayak-group-profile-100084579\" target=\"_blank\" title=\"Jai Vinayak Group\"><span itemprop=\"name\">Jai Vinayak Group</span></a><div class=\"second-line\"><span class=\"seller-type\"><span>BUILDER</span></span></div><div class=\"review-rating-wrap\"><div class=\"rating\" data-lazymodule=\"sellerRating\" data-sellerrating=\"0\">0</div></div></div></div></div></div><div class=\"infoWrap\" itemprop=\"event\" itemref=\"itemImageFor-17821751\" itemscope=\"\" itemtype=\"http://schema.org/Event\"><div class=\"title-line-wrap\"><div class=\"title-line \"><a class=\"typelink\" data-type=\"listing-link\" href=\"https://www.makaan.com/kolkata/jai-vinayak-group-vinayak-golden-acres-in-konnagar-17821751/2bhk-736-sqft-apartment\" itemprop=\"url\" target=\"_blank\"><meta content=\"2 BHK Apartment for sale\" id=\"itemNameFor-17821751\" itemprop=\"name\"/><strong><span class=\"val\">2 </span><span>BHK </span><span>Apartment</span></strong></a><span class=\"project-wrap\"> in <strong><a class=\"projName\" data-link-name=\"Jai Vinayak Vinayak Golden Acres\" data-link-type=\"project overview\" data-track-label=\"17821751_1_1722070_select\" data-type=\"projName\" href=\"https://www.makaan.com/kolkata/jai-vinayak-group-vinayak-golden-acres-in-konnagar-1722070\" target=\"_blank\" title=\"Go to Jai Vinayak Vinayak Golden Acres\"><span>Jai Vinayak Vinayak Golden Acres</span></a></strong></span><div class=\"rera-tag-new\" title=\"Rera Approved Project\"><img alt=\"Rera Approved Project\" src=\"//static.makaan.com/images/un-versioned/rera-tag.svg\"/></div></div><div style=\"width:100%\"><div class=\"locWrap\" itemprop=\"location\" itemscope=\"\" itemtype=\"http://schema.org/Place\" style=\"width:60%;float:left\"><span><span itemprop=\"address\" itemscope=\"\" itemtype=\"http://schema.org/PostalAddress\" title=\"Buy property in Konnagar Kolkata\"><span class=\"locName\"><a class=\"loclink\" data-link-name=\"Konnagar Kolkata\" data-link-type=\"locality buy serp\" data-type=\"localityName\" href=\"https://www.makaan.com/kolkata-property/konnagar-flats-for-sale-52111\" itemprop=\"url\" target=\"_blank\"><span itemprop=\"addressLocality\"><strong>Konnagar</strong></span>, <span class=\"cityName\" itemprop=\"addressRegion\">Kolkata</span></a></span></span></span></div></div></div><table class=\"listing-highlights\"><thead><tr><td colspan=\"2\">Specifications</td></tr></thead><tbody><tr class=\"chevron-wrap\" title=\"see this property details\"><td colspan=\"2\"><i class=\"icon-link\"></i></td></tr><tr class=\"hcol\"><td class=\"price\"><div data-type=\"price-link\"><sup class=\"rupee currency\"> </sup><span class=\"val\" itemprop=\"offers\" itemscope=\"\" itemtype=\"http://schema.org/Offer\"><meta content=\"https://www.makaan.com/kolkata/jai-vinayak-group-vinayak-golden-acres-in-konnagar-17821751/2bhk-736-sqft-apartment\" itemprop=\"url\"/><meta content=\"1968800 \" itemprop=\"price\"/><meta content=\"INR\" itemprop=\"priceCurrency\"/>19.68</span><span class=\"unit\"> L</span></div></td><td class=\"lbl rate\">2,675 / sq ft</td></tr><tr class=\"hcol\"><td class=\"size\"><span class=\"val\">736 </span></td><td class=\"lbl\">Area in sq ft</td></tr><tr class=\"hcol w44\"><td class=\"val\">Under Construction</td><td class=\"lbl\">Construction Status</td></tr></tbody></table><meta content=\"2022-02-27T19:27:20.000Z\" itemprop=\"startDate\"/><ul class=\"listing-details\"><li class=\"keypoint\" title=\"Possession by\"><span><strong><span>Possession by Nov 2023</span></strong></span></li><li class=\"keypoint\"><span>New </span></li></ul><div class=\"listing-description\" data-p9ignore=\"true\"><div class=\"txt\"><h3 class=\"seo-hdng\" title=\"2 BHK Property for Sale in Konnagar Kolkata\"><span>2 BHK Property for Sale in Konnagar Kolkata</span>:</h3>Itâs a 2 bhk multistorey apartment situated in Jai Vinayak Group Vinayak Golden Acres, Konnagar. It has an area of 736 sqft . The property is available at a price of Rs. 19.69 lac . It is an unfurnish...<strong class=\"seo-hdng\">Developed by <a href=\"https://www.makaan.com/jai-vinayak-group-105888\">Jai Vinayak Group</a></strong></div><a class=\"linktoprop\" data-type=\"read-more\">More</a></div><div class=\"btn-wrap\"><div class=\"btn-icons\"><span class=\"favbtn serpfavd\" data-id=\"17821751\" data-lazymodule=\"shortlist\" data-type=\"fav-btn\" id=\"shortlist-17821751\" title=\"shortlist this property\"><script type=\"text/x-config\">{\"listingId\":17821751,\"dataAwaited\": true}</script><i class=\"icon-makaan\"></i><i class=\"icon-makaanfill\"></i></span><span class=\"serpShare shareitem\" data-type=\"social-share\" data-url=\"https://www.makaan.com/kolkata/jai-vinayak-group-vinayak-golden-acres-in-konnagar-17821751/2bhk-736-sqft-apartment\" title=\"share\"><i class=\"icon-share\"></i></span></div><div class=\"callwrap\"><a class=\"txtbtn\" data-call-now=\"\" data-step=\"VIEW_PHONE_MORPHED\" data-type=\"openLeadFormViewPhone\">View Phone</a><a class=\"cbtn cbtn-p\" data-call-now=\"\" data-type=\"openLeadForm\"> Connect Now</a></div></div></div></div></div>\n"
          ]
        }
      ]
    },
    {
      "cell_type": "code",
      "source": [
        "print(listing.div.script)"
      ],
      "metadata": {
        "colab": {
          "base_uri": "https://localhost:8080/"
        },
        "id": "pyUlZ4w2bK1e",
        "outputId": "3fd4deb1-5c77-488b-b1ab-6903c14af4fa"
      },
      "execution_count": 6,
      "outputs": [
        {
          "output_type": "stream",
          "name": "stdout",
          "text": [
            "<script type=\"text/x-config\">{\"selector\":\"listing_17821751\",\"sellerType\":\"BUILDER\",\"builderId\":105888,\"builderName\":\"Jai Vinayak Group\",\"companyType\":\"BUILDER\",\"companyId\":100084579,\"companyUserId\":100908764,\"companyImage\":\"https://static.makaan.com/11/100084579/289/103370735.jpeg?width=130&amp;height=100\",\"backgroundColor\":\"#e9eddd\",\"textColor\":\"#fff\",\"nameText\":\"J\",\"companyName\":\"Jai Vinayak Group\",\"companyRating\":0,\"verificationDate\":1645986600000,\"serverTime\":1646229596469,\"listingUrl\":\"https://www.makaan.com/kolkata/jai-vinayak-group-vinayak-golden-acres-in-konnagar-17821751/2bhk-736-sqft-apartment\",\"imageUrl\":\"https://static.makaan.com/1/1722070/291/golden-acres-others-122615710.jpeg?width=460&amp;height=260\",\"id\":17821751,\"propertyId\":9456470,\"projectId\":1722070,\"projectName\":\"Vinayak Golden Acres\",\"projectStatus\":\"Under Construction\",\"mainImageId\":\"\",\"imageCount\":38,\"latitude\":22.70612144,\"longitude\":88.34746552,\"localityName\":\"Konnagar\",\"suburbName\":\"Kolkata West\",\"cityName\":\"Kolkata\",\"fullName\":\"Jai Vinayak Vinayak Golden Acres\",\"localityUrl\":\"https://www.makaan.com/kolkata/konnagar-real-estate-52111\",\"rank\":1,\"price\":1968800,\"unitTypeId\":1,\"propertyType\":\"Apartment\",\"bedrooms\":2,\"isPlot\":false,\"isApartment\":true,\"localityId\":52111,\"suburbId\":10039,\"cityId\":16,\"listingScore\":4,\"listingCategory\":\"Primary\",\"isCommercial\":\"\",\"size\":\"736 sq ft\",\"isRk\":false,\"isPentHouse\":false,\"isStudio\":false,\"defaultImageId\":\"\",\"sellerCallRatingCount\":0,\"sellerCompanyFeedbackCount\":0,\"isAccountLocked\":false,\"isPaidSeller\":false,\"sellerTransactionStatus\":{\"isExpertDealMaker\":false,\"isDealMaker\":false,\"typeLabel\":\"\"},\"isOriginalSearchResult\":true,\"isMakaanSelectSeller\":false,\"mainImageWidth\":1552,\"mainImageHeight\":900,\"leadType\":\"paid\",\"reraInfo\":\"reraRegistered\",\"isMPMatchTagListing\":\"false\",\"listingDomain\":\"housing\"}</script>\n"
          ]
        }
      ]
    },
    {
      "cell_type": "code",
      "source": [
        "list_detail_str= listing.div.script.text\n",
        "list_detail_dict= json.loads(list_detail_str)\n",
        "print(type(list_detail_str),list_detail_str)\n",
        "print(type(list_detail_dict),(list_detail_dict))"
      ],
      "metadata": {
        "colab": {
          "base_uri": "https://localhost:8080/"
        },
        "id": "ZDYZFeRiVYKV",
        "outputId": "d5f38a50-48cc-43da-cc9b-5d78f04411b9"
      },
      "execution_count": 7,
      "outputs": [
        {
          "output_type": "stream",
          "name": "stdout",
          "text": [
            "<class 'str'> {\"selector\":\"listing_17821751\",\"sellerType\":\"BUILDER\",\"builderId\":105888,\"builderName\":\"Jai Vinayak Group\",\"companyType\":\"BUILDER\",\"companyId\":100084579,\"companyUserId\":100908764,\"companyImage\":\"https://static.makaan.com/11/100084579/289/103370735.jpeg?width=130&amp;height=100\",\"backgroundColor\":\"#e9eddd\",\"textColor\":\"#fff\",\"nameText\":\"J\",\"companyName\":\"Jai Vinayak Group\",\"companyRating\":0,\"verificationDate\":1645986600000,\"serverTime\":1646229596469,\"listingUrl\":\"https://www.makaan.com/kolkata/jai-vinayak-group-vinayak-golden-acres-in-konnagar-17821751/2bhk-736-sqft-apartment\",\"imageUrl\":\"https://static.makaan.com/1/1722070/291/golden-acres-others-122615710.jpeg?width=460&amp;height=260\",\"id\":17821751,\"propertyId\":9456470,\"projectId\":1722070,\"projectName\":\"Vinayak Golden Acres\",\"projectStatus\":\"Under Construction\",\"mainImageId\":\"\",\"imageCount\":38,\"latitude\":22.70612144,\"longitude\":88.34746552,\"localityName\":\"Konnagar\",\"suburbName\":\"Kolkata West\",\"cityName\":\"Kolkata\",\"fullName\":\"Jai Vinayak Vinayak Golden Acres\",\"localityUrl\":\"https://www.makaan.com/kolkata/konnagar-real-estate-52111\",\"rank\":1,\"price\":1968800,\"unitTypeId\":1,\"propertyType\":\"Apartment\",\"bedrooms\":2,\"isPlot\":false,\"isApartment\":true,\"localityId\":52111,\"suburbId\":10039,\"cityId\":16,\"listingScore\":4,\"listingCategory\":\"Primary\",\"isCommercial\":\"\",\"size\":\"736 sq ft\",\"isRk\":false,\"isPentHouse\":false,\"isStudio\":false,\"defaultImageId\":\"\",\"sellerCallRatingCount\":0,\"sellerCompanyFeedbackCount\":0,\"isAccountLocked\":false,\"isPaidSeller\":false,\"sellerTransactionStatus\":{\"isExpertDealMaker\":false,\"isDealMaker\":false,\"typeLabel\":\"\"},\"isOriginalSearchResult\":true,\"isMakaanSelectSeller\":false,\"mainImageWidth\":1552,\"mainImageHeight\":900,\"leadType\":\"paid\",\"reraInfo\":\"reraRegistered\",\"isMPMatchTagListing\":\"false\",\"listingDomain\":\"housing\"}\n",
            "<class 'dict'> {'selector': 'listing_17821751', 'sellerType': 'BUILDER', 'builderId': 105888, 'builderName': 'Jai Vinayak Group', 'companyType': 'BUILDER', 'companyId': 100084579, 'companyUserId': 100908764, 'companyImage': 'https://static.makaan.com/11/100084579/289/103370735.jpeg?width=130&amp;height=100', 'backgroundColor': '#e9eddd', 'textColor': '#fff', 'nameText': 'J', 'companyName': 'Jai Vinayak Group', 'companyRating': 0, 'verificationDate': 1645986600000, 'serverTime': 1646229596469, 'listingUrl': 'https://www.makaan.com/kolkata/jai-vinayak-group-vinayak-golden-acres-in-konnagar-17821751/2bhk-736-sqft-apartment', 'imageUrl': 'https://static.makaan.com/1/1722070/291/golden-acres-others-122615710.jpeg?width=460&amp;height=260', 'id': 17821751, 'propertyId': 9456470, 'projectId': 1722070, 'projectName': 'Vinayak Golden Acres', 'projectStatus': 'Under Construction', 'mainImageId': '', 'imageCount': 38, 'latitude': 22.70612144, 'longitude': 88.34746552, 'localityName': 'Konnagar', 'suburbName': 'Kolkata West', 'cityName': 'Kolkata', 'fullName': 'Jai Vinayak Vinayak Golden Acres', 'localityUrl': 'https://www.makaan.com/kolkata/konnagar-real-estate-52111', 'rank': 1, 'price': 1968800, 'unitTypeId': 1, 'propertyType': 'Apartment', 'bedrooms': 2, 'isPlot': False, 'isApartment': True, 'localityId': 52111, 'suburbId': 10039, 'cityId': 16, 'listingScore': 4, 'listingCategory': 'Primary', 'isCommercial': '', 'size': '736 sq ft', 'isRk': False, 'isPentHouse': False, 'isStudio': False, 'defaultImageId': '', 'sellerCallRatingCount': 0, 'sellerCompanyFeedbackCount': 0, 'isAccountLocked': False, 'isPaidSeller': False, 'sellerTransactionStatus': {'isExpertDealMaker': False, 'isDealMaker': False, 'typeLabel': ''}, 'isOriginalSearchResult': True, 'isMakaanSelectSeller': False, 'mainImageWidth': 1552, 'mainImageHeight': 900, 'leadType': 'paid', 'reraInfo': 'reraRegistered', 'isMPMatchTagListing': 'false', 'listingDomain': 'housing'}\n"
          ]
        }
      ]
    },
    {
      "cell_type": "code",
      "source": [
        "keys = [k for k in list_detail_dict.keys()]"
      ],
      "metadata": {
        "id": "ti1f6C2rZlua"
      },
      "execution_count": 8,
      "outputs": []
    },
    {
      "cell_type": "code",
      "source": [
        "df= pd.DataFrame(columns=keys)\n",
        "df"
      ],
      "metadata": {
        "colab": {
          "base_uri": "https://localhost:8080/",
          "height": 113
        },
        "id": "299HsXFnefmW",
        "outputId": "18e4c07b-7bf1-45bd-eeb0-e7f65b00a0ea"
      },
      "execution_count": 9,
      "outputs": [
        {
          "output_type": "execute_result",
          "data": {
            "text/html": [
              "\n",
              "  <div id=\"df-389e38a9-73dc-4037-ba25-591c5451453c\">\n",
              "    <div class=\"colab-df-container\">\n",
              "      <div>\n",
              "<style scoped>\n",
              "    .dataframe tbody tr th:only-of-type {\n",
              "        vertical-align: middle;\n",
              "    }\n",
              "\n",
              "    .dataframe tbody tr th {\n",
              "        vertical-align: top;\n",
              "    }\n",
              "\n",
              "    .dataframe thead th {\n",
              "        text-align: right;\n",
              "    }\n",
              "</style>\n",
              "<table border=\"1\" class=\"dataframe\">\n",
              "  <thead>\n",
              "    <tr style=\"text-align: right;\">\n",
              "      <th></th>\n",
              "      <th>selector</th>\n",
              "      <th>sellerType</th>\n",
              "      <th>builderId</th>\n",
              "      <th>builderName</th>\n",
              "      <th>companyType</th>\n",
              "      <th>companyId</th>\n",
              "      <th>companyUserId</th>\n",
              "      <th>companyImage</th>\n",
              "      <th>backgroundColor</th>\n",
              "      <th>textColor</th>\n",
              "      <th>nameText</th>\n",
              "      <th>companyName</th>\n",
              "      <th>companyRating</th>\n",
              "      <th>verificationDate</th>\n",
              "      <th>serverTime</th>\n",
              "      <th>listingUrl</th>\n",
              "      <th>imageUrl</th>\n",
              "      <th>id</th>\n",
              "      <th>propertyId</th>\n",
              "      <th>projectId</th>\n",
              "      <th>projectName</th>\n",
              "      <th>projectStatus</th>\n",
              "      <th>mainImageId</th>\n",
              "      <th>imageCount</th>\n",
              "      <th>latitude</th>\n",
              "      <th>longitude</th>\n",
              "      <th>localityName</th>\n",
              "      <th>suburbName</th>\n",
              "      <th>cityName</th>\n",
              "      <th>fullName</th>\n",
              "      <th>localityUrl</th>\n",
              "      <th>rank</th>\n",
              "      <th>price</th>\n",
              "      <th>unitTypeId</th>\n",
              "      <th>propertyType</th>\n",
              "      <th>bedrooms</th>\n",
              "      <th>isPlot</th>\n",
              "      <th>isApartment</th>\n",
              "      <th>localityId</th>\n",
              "      <th>suburbId</th>\n",
              "      <th>cityId</th>\n",
              "      <th>listingScore</th>\n",
              "      <th>listingCategory</th>\n",
              "      <th>isCommercial</th>\n",
              "      <th>size</th>\n",
              "      <th>isRk</th>\n",
              "      <th>isPentHouse</th>\n",
              "      <th>isStudio</th>\n",
              "      <th>defaultImageId</th>\n",
              "      <th>sellerCallRatingCount</th>\n",
              "      <th>sellerCompanyFeedbackCount</th>\n",
              "      <th>isAccountLocked</th>\n",
              "      <th>isPaidSeller</th>\n",
              "      <th>sellerTransactionStatus</th>\n",
              "      <th>isOriginalSearchResult</th>\n",
              "      <th>isMakaanSelectSeller</th>\n",
              "      <th>mainImageWidth</th>\n",
              "      <th>mainImageHeight</th>\n",
              "      <th>leadType</th>\n",
              "      <th>reraInfo</th>\n",
              "      <th>isMPMatchTagListing</th>\n",
              "      <th>listingDomain</th>\n",
              "    </tr>\n",
              "  </thead>\n",
              "  <tbody>\n",
              "  </tbody>\n",
              "</table>\n",
              "</div>\n",
              "      <button class=\"colab-df-convert\" onclick=\"convertToInteractive('df-389e38a9-73dc-4037-ba25-591c5451453c')\"\n",
              "              title=\"Convert this dataframe to an interactive table.\"\n",
              "              style=\"display:none;\">\n",
              "        \n",
              "  <svg xmlns=\"http://www.w3.org/2000/svg\" height=\"24px\"viewBox=\"0 0 24 24\"\n",
              "       width=\"24px\">\n",
              "    <path d=\"M0 0h24v24H0V0z\" fill=\"none\"/>\n",
              "    <path d=\"M18.56 5.44l.94 2.06.94-2.06 2.06-.94-2.06-.94-.94-2.06-.94 2.06-2.06.94zm-11 1L8.5 8.5l.94-2.06 2.06-.94-2.06-.94L8.5 2.5l-.94 2.06-2.06.94zm10 10l.94 2.06.94-2.06 2.06-.94-2.06-.94-.94-2.06-.94 2.06-2.06.94z\"/><path d=\"M17.41 7.96l-1.37-1.37c-.4-.4-.92-.59-1.43-.59-.52 0-1.04.2-1.43.59L10.3 9.45l-7.72 7.72c-.78.78-.78 2.05 0 2.83L4 21.41c.39.39.9.59 1.41.59.51 0 1.02-.2 1.41-.59l7.78-7.78 2.81-2.81c.8-.78.8-2.07 0-2.86zM5.41 20L4 18.59l7.72-7.72 1.47 1.35L5.41 20z\"/>\n",
              "  </svg>\n",
              "      </button>\n",
              "      \n",
              "  <style>\n",
              "    .colab-df-container {\n",
              "      display:flex;\n",
              "      flex-wrap:wrap;\n",
              "      gap: 12px;\n",
              "    }\n",
              "\n",
              "    .colab-df-convert {\n",
              "      background-color: #E8F0FE;\n",
              "      border: none;\n",
              "      border-radius: 50%;\n",
              "      cursor: pointer;\n",
              "      display: none;\n",
              "      fill: #1967D2;\n",
              "      height: 32px;\n",
              "      padding: 0 0 0 0;\n",
              "      width: 32px;\n",
              "    }\n",
              "\n",
              "    .colab-df-convert:hover {\n",
              "      background-color: #E2EBFA;\n",
              "      box-shadow: 0px 1px 2px rgba(60, 64, 67, 0.3), 0px 1px 3px 1px rgba(60, 64, 67, 0.15);\n",
              "      fill: #174EA6;\n",
              "    }\n",
              "\n",
              "    [theme=dark] .colab-df-convert {\n",
              "      background-color: #3B4455;\n",
              "      fill: #D2E3FC;\n",
              "    }\n",
              "\n",
              "    [theme=dark] .colab-df-convert:hover {\n",
              "      background-color: #434B5C;\n",
              "      box-shadow: 0px 1px 3px 1px rgba(0, 0, 0, 0.15);\n",
              "      filter: drop-shadow(0px 1px 2px rgba(0, 0, 0, 0.3));\n",
              "      fill: #FFFFFF;\n",
              "    }\n",
              "  </style>\n",
              "\n",
              "      <script>\n",
              "        const buttonEl =\n",
              "          document.querySelector('#df-389e38a9-73dc-4037-ba25-591c5451453c button.colab-df-convert');\n",
              "        buttonEl.style.display =\n",
              "          google.colab.kernel.accessAllowed ? 'block' : 'none';\n",
              "\n",
              "        async function convertToInteractive(key) {\n",
              "          const element = document.querySelector('#df-389e38a9-73dc-4037-ba25-591c5451453c');\n",
              "          const dataTable =\n",
              "            await google.colab.kernel.invokeFunction('convertToInteractive',\n",
              "                                                     [key], {});\n",
              "          if (!dataTable) return;\n",
              "\n",
              "          const docLinkHtml = 'Like what you see? Visit the ' +\n",
              "            '<a target=\"_blank\" href=https://colab.research.google.com/notebooks/data_table.ipynb>data table notebook</a>'\n",
              "            + ' to learn more about interactive tables.';\n",
              "          element.innerHTML = '';\n",
              "          dataTable['output_type'] = 'display_data';\n",
              "          await google.colab.output.renderOutput(dataTable, element);\n",
              "          const docLink = document.createElement('div');\n",
              "          docLink.innerHTML = docLinkHtml;\n",
              "          element.appendChild(docLink);\n",
              "        }\n",
              "      </script>\n",
              "    </div>\n",
              "  </div>\n",
              "  "
            ],
            "text/plain": [
              "Empty DataFrame\n",
              "Columns: [selector, sellerType, builderId, builderName, companyType, companyId, companyUserId, companyImage, backgroundColor, textColor, nameText, companyName, companyRating, verificationDate, serverTime, listingUrl, imageUrl, id, propertyId, projectId, projectName, projectStatus, mainImageId, imageCount, latitude, longitude, localityName, suburbName, cityName, fullName, localityUrl, rank, price, unitTypeId, propertyType, bedrooms, isPlot, isApartment, localityId, suburbId, cityId, listingScore, listingCategory, isCommercial, size, isRk, isPentHouse, isStudio, defaultImageId, sellerCallRatingCount, sellerCompanyFeedbackCount, isAccountLocked, isPaidSeller, sellerTransactionStatus, isOriginalSearchResult, isMakaanSelectSeller, mainImageWidth, mainImageHeight, leadType, reraInfo, isMPMatchTagListing, listingDomain]\n",
              "Index: []"
            ]
          },
          "metadata": {},
          "execution_count": 9
        }
      ]
    },
    {
      "cell_type": "code",
      "source": [
        "def get_details(property):\n",
        "  property_detail_str= property.div.script.text\n",
        "  property_detail_dict= json.loads(property_detail_str)\n",
        "\n",
        "  return property_detail_dict"
      ],
      "metadata": {
        "id": "geL-38Z9fNPx"
      },
      "execution_count": 10,
      "outputs": []
    },
    {
      "cell_type": "code",
      "source": [
        "def append_properties(properties):\n",
        "  global df\n",
        "  for property in properties:\n",
        "    property_detail= get_details(property)\n",
        "    df= df.append(property_detail, ignore_index=True)\n",
        "  return"
      ],
      "metadata": {
        "id": "iHhPaIOif1Pm"
      },
      "execution_count": 11,
      "outputs": []
    },
    {
      "cell_type": "code",
      "source": [
        "def get_properties(page_link):\n",
        "  html_page= requests.get(page_link).text\n",
        "  page_soup= BeautifulSoup(html_page, 'lxml') \n",
        "  properties= page_soup.find_all('li', class_=\"cardholder\" )\n",
        "  return properties"
      ],
      "metadata": {
        "id": "EeFnwawBpebA"
      },
      "execution_count": 160,
      "outputs": []
    },
    {
      "cell_type": "code",
      "source": [
        "for page in range(1,1250+1):\n",
        "  page_link= f'https://www.makaan.com/kolkata-residential-property/buy-property-in-kolkata-city?_=1646207175799&page={page}'\n",
        "  properties= get_properties(page_link)\n",
        "  append_properties(properties)"
      ],
      "metadata": {
        "id": "UmgotHpjnbOm"
      },
      "execution_count": 161,
      "outputs": []
    },
    {
      "cell_type": "code",
      "source": [
        "df.to_csv('properties_raw.csv', index=False)"
      ],
      "metadata": {
        "id": "gqiXdxql-7Cf"
      },
      "execution_count": 162,
      "outputs": []
    },
    {
      "cell_type": "code",
      "source": [
        "df.columns"
      ],
      "metadata": {
        "colab": {
          "base_uri": "https://localhost:8080/"
        },
        "id": "-w0AXKbj8B8Z",
        "outputId": "07f33e85-1df2-4c43-c4dd-b4059bde3a57"
      },
      "execution_count": 113,
      "outputs": [
        {
          "output_type": "execute_result",
          "data": {
            "text/plain": [
              "Index(['selector', 'sellerType', 'builderId', 'builderName', 'companyType',\n",
              "       'companyId', 'companyUserId', 'companyImage', 'backgroundColor',\n",
              "       'textColor', 'nameText', 'companyName', 'companyRating',\n",
              "       'verificationDate', 'serverTime', 'listingUrl', 'imageUrl', 'id',\n",
              "       'propertyId', 'projectId', 'projectName', 'projectStatus',\n",
              "       'mainImageId', 'imageCount', 'latitude', 'longitude', 'localityName',\n",
              "       'suburbName', 'cityName', 'fullName', 'localityUrl', 'rank', 'price',\n",
              "       'unitTypeId', 'propertyType', 'bedrooms', 'isPlot', 'isApartment',\n",
              "       'localityId', 'suburbId', 'cityId', 'listingScore', 'listingCategory',\n",
              "       'isCommercial', 'size', 'isRk', 'isPentHouse', 'isStudio',\n",
              "       'defaultImageId', 'sellerCallRatingCount', 'sellerCompanyFeedbackCount',\n",
              "       'isAccountLocked', 'isPaidSeller', 'sellerTransactionStatus',\n",
              "       'isOriginalSearchResult', 'isMakaanSelectSeller', 'mainImageWidth',\n",
              "       'mainImageHeight', 'leadType', 'reraInfo', 'isMPMatchTagListing',\n",
              "       'listingDomain'],\n",
              "      dtype='object')"
            ]
          },
          "metadata": {},
          "execution_count": 113
        }
      ]
    },
    {
      "cell_type": "code",
      "source": [
        "df.head(3)"
      ],
      "metadata": {
        "colab": {
          "base_uri": "https://localhost:8080/",
          "height": 346
        },
        "id": "YEMuxe_9RDnT",
        "outputId": "ac45b756-1a35-4fdf-92b0-026749a7745a"
      },
      "execution_count": 114,
      "outputs": [
        {
          "output_type": "execute_result",
          "data": {
            "text/html": [
              "\n",
              "  <div id=\"df-c41e71e3-0a6e-4e95-be16-5e75a3e53c81\">\n",
              "    <div class=\"colab-df-container\">\n",
              "      <div>\n",
              "<style scoped>\n",
              "    .dataframe tbody tr th:only-of-type {\n",
              "        vertical-align: middle;\n",
              "    }\n",
              "\n",
              "    .dataframe tbody tr th {\n",
              "        vertical-align: top;\n",
              "    }\n",
              "\n",
              "    .dataframe thead th {\n",
              "        text-align: right;\n",
              "    }\n",
              "</style>\n",
              "<table border=\"1\" class=\"dataframe\">\n",
              "  <thead>\n",
              "    <tr style=\"text-align: right;\">\n",
              "      <th></th>\n",
              "      <th>selector</th>\n",
              "      <th>sellerType</th>\n",
              "      <th>builderId</th>\n",
              "      <th>builderName</th>\n",
              "      <th>companyType</th>\n",
              "      <th>companyId</th>\n",
              "      <th>companyUserId</th>\n",
              "      <th>companyImage</th>\n",
              "      <th>backgroundColor</th>\n",
              "      <th>textColor</th>\n",
              "      <th>nameText</th>\n",
              "      <th>companyName</th>\n",
              "      <th>companyRating</th>\n",
              "      <th>verificationDate</th>\n",
              "      <th>serverTime</th>\n",
              "      <th>listingUrl</th>\n",
              "      <th>imageUrl</th>\n",
              "      <th>id</th>\n",
              "      <th>propertyId</th>\n",
              "      <th>projectId</th>\n",
              "      <th>projectName</th>\n",
              "      <th>projectStatus</th>\n",
              "      <th>mainImageId</th>\n",
              "      <th>imageCount</th>\n",
              "      <th>latitude</th>\n",
              "      <th>longitude</th>\n",
              "      <th>localityName</th>\n",
              "      <th>suburbName</th>\n",
              "      <th>cityName</th>\n",
              "      <th>fullName</th>\n",
              "      <th>localityUrl</th>\n",
              "      <th>rank</th>\n",
              "      <th>price</th>\n",
              "      <th>unitTypeId</th>\n",
              "      <th>propertyType</th>\n",
              "      <th>bedrooms</th>\n",
              "      <th>isPlot</th>\n",
              "      <th>isApartment</th>\n",
              "      <th>localityId</th>\n",
              "      <th>suburbId</th>\n",
              "      <th>cityId</th>\n",
              "      <th>listingScore</th>\n",
              "      <th>listingCategory</th>\n",
              "      <th>isCommercial</th>\n",
              "      <th>size</th>\n",
              "      <th>isRk</th>\n",
              "      <th>isPentHouse</th>\n",
              "      <th>isStudio</th>\n",
              "      <th>defaultImageId</th>\n",
              "      <th>sellerCallRatingCount</th>\n",
              "      <th>sellerCompanyFeedbackCount</th>\n",
              "      <th>isAccountLocked</th>\n",
              "      <th>isPaidSeller</th>\n",
              "      <th>sellerTransactionStatus</th>\n",
              "      <th>isOriginalSearchResult</th>\n",
              "      <th>isMakaanSelectSeller</th>\n",
              "      <th>mainImageWidth</th>\n",
              "      <th>mainImageHeight</th>\n",
              "      <th>leadType</th>\n",
              "      <th>reraInfo</th>\n",
              "      <th>isMPMatchTagListing</th>\n",
              "      <th>listingDomain</th>\n",
              "    </tr>\n",
              "  </thead>\n",
              "  <tbody>\n",
              "    <tr>\n",
              "      <th>0</th>\n",
              "      <td>listing_17821751</td>\n",
              "      <td>BUILDER</td>\n",
              "      <td>105888.0</td>\n",
              "      <td>Jai Vinayak Group</td>\n",
              "      <td>BUILDER</td>\n",
              "      <td>100084579</td>\n",
              "      <td>100908764</td>\n",
              "      <td>https://static.makaan.com/11/100084579/289/103...</td>\n",
              "      <td>#e9eddd</td>\n",
              "      <td>#fff</td>\n",
              "      <td>J</td>\n",
              "      <td>Jai Vinayak Group</td>\n",
              "      <td>0.0</td>\n",
              "      <td>1645986600000</td>\n",
              "      <td>1646210837298</td>\n",
              "      <td>https://www.makaan.com/kolkata/jai-vinayak-gro...</td>\n",
              "      <td>https://static.makaan.com/1/1722070/291/golden...</td>\n",
              "      <td>17821751</td>\n",
              "      <td>9456470</td>\n",
              "      <td>1722070</td>\n",
              "      <td>Vinayak Golden Acres</td>\n",
              "      <td>Under Construction</td>\n",
              "      <td>NaN</td>\n",
              "      <td>38</td>\n",
              "      <td>22.706121</td>\n",
              "      <td>88.347466</td>\n",
              "      <td>Konnagar</td>\n",
              "      <td>Kolkata West</td>\n",
              "      <td>Kolkata</td>\n",
              "      <td>Jai Vinayak Vinayak Golden Acres</td>\n",
              "      <td>https://www.makaan.com/kolkata/konnagar-real-e...</td>\n",
              "      <td>1</td>\n",
              "      <td>1968800</td>\n",
              "      <td>1</td>\n",
              "      <td>Apartment</td>\n",
              "      <td>2.0</td>\n",
              "      <td>False</td>\n",
              "      <td>True</td>\n",
              "      <td>52111</td>\n",
              "      <td>10039</td>\n",
              "      <td>16</td>\n",
              "      <td>4.0</td>\n",
              "      <td>Primary</td>\n",
              "      <td>NaN</td>\n",
              "      <td>736 sq ft</td>\n",
              "      <td>False</td>\n",
              "      <td>False</td>\n",
              "      <td>False</td>\n",
              "      <td>NaN</td>\n",
              "      <td>0</td>\n",
              "      <td>0</td>\n",
              "      <td>False</td>\n",
              "      <td>False</td>\n",
              "      <td>{'isExpertDealMaker': False, 'isDealMaker': Fa...</td>\n",
              "      <td>True</td>\n",
              "      <td>False</td>\n",
              "      <td>1552</td>\n",
              "      <td>900</td>\n",
              "      <td>paid</td>\n",
              "      <td>reraRegistered</td>\n",
              "      <td>False</td>\n",
              "      <td>housing</td>\n",
              "    </tr>\n",
              "    <tr>\n",
              "      <th>1</th>\n",
              "      <td>listing_17766246</td>\n",
              "      <td>BUILDER</td>\n",
              "      <td>104977.0</td>\n",
              "      <td>Merlin Group</td>\n",
              "      <td>BUILDER</td>\n",
              "      <td>1853790</td>\n",
              "      <td>17072360</td>\n",
              "      <td>https://static.makaan.com/11/1853790/289/10334...</td>\n",
              "      <td>#e2dded</td>\n",
              "      <td>#fff</td>\n",
              "      <td>M</td>\n",
              "      <td>Merlin Group</td>\n",
              "      <td>0.0</td>\n",
              "      <td>1645554600000</td>\n",
              "      <td>1646210837299</td>\n",
              "      <td>https://www.makaan.com/kolkata/merlin-group-sk...</td>\n",
              "      <td>https://static.makaan.com/1/3129791/297/skygaz...</td>\n",
              "      <td>17766246</td>\n",
              "      <td>14371273</td>\n",
              "      <td>3129791</td>\n",
              "      <td>Skygaze</td>\n",
              "      <td>Under Construction</td>\n",
              "      <td>NaN</td>\n",
              "      <td>30</td>\n",
              "      <td>22.404371</td>\n",
              "      <td>88.412827</td>\n",
              "      <td>Chowhati</td>\n",
              "      <td>Kolkata South</td>\n",
              "      <td>Kolkata</td>\n",
              "      <td>Merlin Skygaze</td>\n",
              "      <td>https://www.makaan.com/kolkata/chowhati-real-e...</td>\n",
              "      <td>2</td>\n",
              "      <td>3645712</td>\n",
              "      <td>1</td>\n",
              "      <td>Apartment</td>\n",
              "      <td>2.0</td>\n",
              "      <td>False</td>\n",
              "      <td>True</td>\n",
              "      <td>106198</td>\n",
              "      <td>10038</td>\n",
              "      <td>16</td>\n",
              "      <td>4.0</td>\n",
              "      <td>Primary</td>\n",
              "      <td>NaN</td>\n",
              "      <td>688 sq ft</td>\n",
              "      <td>False</td>\n",
              "      <td>False</td>\n",
              "      <td>False</td>\n",
              "      <td>NaN</td>\n",
              "      <td>0</td>\n",
              "      <td>0</td>\n",
              "      <td>False</td>\n",
              "      <td>False</td>\n",
              "      <td>{'isExpertDealMaker': False, 'isDealMaker': Fa...</td>\n",
              "      <td>True</td>\n",
              "      <td>False</td>\n",
              "      <td>1799</td>\n",
              "      <td>1000</td>\n",
              "      <td>paid</td>\n",
              "      <td>reraRegistered</td>\n",
              "      <td>False</td>\n",
              "      <td>housing</td>\n",
              "    </tr>\n",
              "    <tr>\n",
              "      <th>2</th>\n",
              "      <td>listing_17600681</td>\n",
              "      <td>BUILDER</td>\n",
              "      <td>105639.0</td>\n",
              "      <td>Bhawani Group</td>\n",
              "      <td>BUILDER</td>\n",
              "      <td>100391839</td>\n",
              "      <td>104010523</td>\n",
              "      <td>NaN</td>\n",
              "      <td>#e9eddd</td>\n",
              "      <td>#fff</td>\n",
              "      <td>B</td>\n",
              "      <td>Bhawani Group</td>\n",
              "      <td>0.0</td>\n",
              "      <td>1644345000000</td>\n",
              "      <td>1646210837299</td>\n",
              "      <td>https://www.makaan.com/kolkata/bhawani-group-b...</td>\n",
              "      <td>https://static.makaan.com/1/3039950/297/bhawan...</td>\n",
              "      <td>17600681</td>\n",
              "      <td>13278015</td>\n",
              "      <td>3039950</td>\n",
              "      <td>Bhawani Twin Towers</td>\n",
              "      <td>Ready to move</td>\n",
              "      <td>NaN</td>\n",
              "      <td>20</td>\n",
              "      <td>22.588308</td>\n",
              "      <td>88.335579</td>\n",
              "      <td>Howrah</td>\n",
              "      <td>Kolkata West</td>\n",
              "      <td>Kolkata</td>\n",
              "      <td>Bhawani Bhawani Twin Towers</td>\n",
              "      <td>https://www.makaan.com/kolkata/howrah-real-est...</td>\n",
              "      <td>3</td>\n",
              "      <td>6159920</td>\n",
              "      <td>1</td>\n",
              "      <td>Apartment</td>\n",
              "      <td>2.0</td>\n",
              "      <td>False</td>\n",
              "      <td>True</td>\n",
              "      <td>50384</td>\n",
              "      <td>10039</td>\n",
              "      <td>16</td>\n",
              "      <td>4.0</td>\n",
              "      <td>Primary</td>\n",
              "      <td>NaN</td>\n",
              "      <td>1,040 sq ft</td>\n",
              "      <td>False</td>\n",
              "      <td>False</td>\n",
              "      <td>False</td>\n",
              "      <td>NaN</td>\n",
              "      <td>0</td>\n",
              "      <td>0</td>\n",
              "      <td>False</td>\n",
              "      <td>False</td>\n",
              "      <td>{'isExpertDealMaker': False, 'isDealMaker': Fa...</td>\n",
              "      <td>True</td>\n",
              "      <td>False</td>\n",
              "      <td>1920</td>\n",
              "      <td>1080</td>\n",
              "      <td>paid</td>\n",
              "      <td>NaN</td>\n",
              "      <td>False</td>\n",
              "      <td>housing</td>\n",
              "    </tr>\n",
              "  </tbody>\n",
              "</table>\n",
              "</div>\n",
              "      <button class=\"colab-df-convert\" onclick=\"convertToInteractive('df-c41e71e3-0a6e-4e95-be16-5e75a3e53c81')\"\n",
              "              title=\"Convert this dataframe to an interactive table.\"\n",
              "              style=\"display:none;\">\n",
              "        \n",
              "  <svg xmlns=\"http://www.w3.org/2000/svg\" height=\"24px\"viewBox=\"0 0 24 24\"\n",
              "       width=\"24px\">\n",
              "    <path d=\"M0 0h24v24H0V0z\" fill=\"none\"/>\n",
              "    <path d=\"M18.56 5.44l.94 2.06.94-2.06 2.06-.94-2.06-.94-.94-2.06-.94 2.06-2.06.94zm-11 1L8.5 8.5l.94-2.06 2.06-.94-2.06-.94L8.5 2.5l-.94 2.06-2.06.94zm10 10l.94 2.06.94-2.06 2.06-.94-2.06-.94-.94-2.06-.94 2.06-2.06.94z\"/><path d=\"M17.41 7.96l-1.37-1.37c-.4-.4-.92-.59-1.43-.59-.52 0-1.04.2-1.43.59L10.3 9.45l-7.72 7.72c-.78.78-.78 2.05 0 2.83L4 21.41c.39.39.9.59 1.41.59.51 0 1.02-.2 1.41-.59l7.78-7.78 2.81-2.81c.8-.78.8-2.07 0-2.86zM5.41 20L4 18.59l7.72-7.72 1.47 1.35L5.41 20z\"/>\n",
              "  </svg>\n",
              "      </button>\n",
              "      \n",
              "  <style>\n",
              "    .colab-df-container {\n",
              "      display:flex;\n",
              "      flex-wrap:wrap;\n",
              "      gap: 12px;\n",
              "    }\n",
              "\n",
              "    .colab-df-convert {\n",
              "      background-color: #E8F0FE;\n",
              "      border: none;\n",
              "      border-radius: 50%;\n",
              "      cursor: pointer;\n",
              "      display: none;\n",
              "      fill: #1967D2;\n",
              "      height: 32px;\n",
              "      padding: 0 0 0 0;\n",
              "      width: 32px;\n",
              "    }\n",
              "\n",
              "    .colab-df-convert:hover {\n",
              "      background-color: #E2EBFA;\n",
              "      box-shadow: 0px 1px 2px rgba(60, 64, 67, 0.3), 0px 1px 3px 1px rgba(60, 64, 67, 0.15);\n",
              "      fill: #174EA6;\n",
              "    }\n",
              "\n",
              "    [theme=dark] .colab-df-convert {\n",
              "      background-color: #3B4455;\n",
              "      fill: #D2E3FC;\n",
              "    }\n",
              "\n",
              "    [theme=dark] .colab-df-convert:hover {\n",
              "      background-color: #434B5C;\n",
              "      box-shadow: 0px 1px 3px 1px rgba(0, 0, 0, 0.15);\n",
              "      filter: drop-shadow(0px 1px 2px rgba(0, 0, 0, 0.3));\n",
              "      fill: #FFFFFF;\n",
              "    }\n",
              "  </style>\n",
              "\n",
              "      <script>\n",
              "        const buttonEl =\n",
              "          document.querySelector('#df-c41e71e3-0a6e-4e95-be16-5e75a3e53c81 button.colab-df-convert');\n",
              "        buttonEl.style.display =\n",
              "          google.colab.kernel.accessAllowed ? 'block' : 'none';\n",
              "\n",
              "        async function convertToInteractive(key) {\n",
              "          const element = document.querySelector('#df-c41e71e3-0a6e-4e95-be16-5e75a3e53c81');\n",
              "          const dataTable =\n",
              "            await google.colab.kernel.invokeFunction('convertToInteractive',\n",
              "                                                     [key], {});\n",
              "          if (!dataTable) return;\n",
              "\n",
              "          const docLinkHtml = 'Like what you see? Visit the ' +\n",
              "            '<a target=\"_blank\" href=https://colab.research.google.com/notebooks/data_table.ipynb>data table notebook</a>'\n",
              "            + ' to learn more about interactive tables.';\n",
              "          element.innerHTML = '';\n",
              "          dataTable['output_type'] = 'display_data';\n",
              "          await google.colab.output.renderOutput(dataTable, element);\n",
              "          const docLink = document.createElement('div');\n",
              "          docLink.innerHTML = docLinkHtml;\n",
              "          element.appendChild(docLink);\n",
              "        }\n",
              "      </script>\n",
              "    </div>\n",
              "  </div>\n",
              "  "
            ],
            "text/plain": [
              "           selector sellerType  ...  isMPMatchTagListing listingDomain\n",
              "0  listing_17821751    BUILDER  ...                False       housing\n",
              "1  listing_17766246    BUILDER  ...                False       housing\n",
              "2  listing_17600681    BUILDER  ...                False       housing\n",
              "\n",
              "[3 rows x 62 columns]"
            ]
          },
          "metadata": {},
          "execution_count": 114
        }
      ]
    },
    {
      "cell_type": "code",
      "source": [
        "attributes= ['id','sellerType','companyName', 'projectName','projectStatus','latitude','longitude','localityName',\n",
        "             'suburbName','cityName', 'propertyType', 'bedrooms','listingCategory', 'size', 'leadType', 'price']"
      ],
      "metadata": {
        "id": "bwNEHz4d8qaV"
      },
      "execution_count": 97,
      "outputs": []
    },
    {
      "cell_type": "code",
      "source": [
        "df= df[attributes]"
      ],
      "metadata": {
        "id": "Q_Sz2Tpa89kD"
      },
      "execution_count": 98,
      "outputs": []
    },
    {
      "cell_type": "code",
      "source": [
        "df.info()"
      ],
      "metadata": {
        "colab": {
          "base_uri": "https://localhost:8080/"
        },
        "id": "85TQ0xwYL9sD",
        "outputId": "e76d4934-83fd-4a1a-a1ea-ca3e1bda5ffb"
      },
      "execution_count": 106,
      "outputs": [
        {
          "output_type": "stream",
          "name": "stdout",
          "text": [
            "<class 'pandas.core.frame.DataFrame'>\n",
            "Int64Index: 23192 entries, 0 to 24959\n",
            "Data columns (total 16 columns):\n",
            " #   Column           Non-Null Count  Dtype  \n",
            "---  ------           --------------  -----  \n",
            " 0   id               23192 non-null  int64  \n",
            " 1   sellerType       23192 non-null  object \n",
            " 2   companyName      23192 non-null  object \n",
            " 3   projectName      23192 non-null  object \n",
            " 4   projectStatus    23192 non-null  object \n",
            " 5   latitude         23192 non-null  float64\n",
            " 6   longitude        23192 non-null  float64\n",
            " 7   localityName     23192 non-null  object \n",
            " 8   suburbName       23192 non-null  object \n",
            " 9   cityName         23192 non-null  object \n",
            " 10  propertyType     23192 non-null  object \n",
            " 11  bedrooms         23192 non-null  float64\n",
            " 12  listingCategory  23192 non-null  object \n",
            " 13  size             23192 non-null  object \n",
            " 14  leadType         23192 non-null  object \n",
            " 15  price            23192 non-null  int64  \n",
            "dtypes: float64(3), int64(2), object(11)\n",
            "memory usage: 3.0+ MB\n"
          ]
        }
      ]
    },
    {
      "cell_type": "code",
      "source": [
        "df.isna().sum()"
      ],
      "metadata": {
        "colab": {
          "base_uri": "https://localhost:8080/"
        },
        "id": "nY9aAlipOsiI",
        "outputId": "74b74fa1-7332-4c1c-827f-06e6362a66cb"
      },
      "execution_count": 100,
      "outputs": [
        {
          "output_type": "execute_result",
          "data": {
            "text/plain": [
              "id                    0\n",
              "sellerType            0\n",
              "companyName          35\n",
              "projectName           0\n",
              "projectStatus       160\n",
              "latitude              0\n",
              "longitude             0\n",
              "localityName          0\n",
              "suburbName            0\n",
              "cityName              0\n",
              "propertyType          0\n",
              "bedrooms           1733\n",
              "listingCategory       0\n",
              "size                  0\n",
              "leadType              0\n",
              "price                 0\n",
              "dtype: int64"
            ]
          },
          "metadata": {},
          "execution_count": 100
        }
      ]
    },
    {
      "cell_type": "code",
      "source": [
        "df.dropna(axis=0, inplace=True)"
      ],
      "metadata": {
        "id": "gHyyBmygPBTs"
      },
      "execution_count": 101,
      "outputs": []
    },
    {
      "cell_type": "code",
      "source": [
        "df['size']= df['size'].apply(lambda x: \"\".join(x.split(\" \")[0].split(\",\")))"
      ],
      "metadata": {
        "id": "JaCwfskRNo40"
      },
      "execution_count": 103,
      "outputs": []
    },
    {
      "cell_type": "code",
      "source": [
        "df.head()"
      ],
      "metadata": {
        "colab": {
          "base_uri": "https://localhost:8080/",
          "height": 374
        },
        "id": "tqtT6xyLNDQv",
        "outputId": "3ab62ffa-1324-426c-9b48-67a331824faf"
      },
      "execution_count": 102,
      "outputs": [
        {
          "output_type": "execute_result",
          "data": {
            "text/html": [
              "\n",
              "  <div id=\"df-1b6d96d2-e68a-4c64-ad51-0f569e2af8a3\">\n",
              "    <div class=\"colab-df-container\">\n",
              "      <div>\n",
              "<style scoped>\n",
              "    .dataframe tbody tr th:only-of-type {\n",
              "        vertical-align: middle;\n",
              "    }\n",
              "\n",
              "    .dataframe tbody tr th {\n",
              "        vertical-align: top;\n",
              "    }\n",
              "\n",
              "    .dataframe thead th {\n",
              "        text-align: right;\n",
              "    }\n",
              "</style>\n",
              "<table border=\"1\" class=\"dataframe\">\n",
              "  <thead>\n",
              "    <tr style=\"text-align: right;\">\n",
              "      <th></th>\n",
              "      <th>id</th>\n",
              "      <th>sellerType</th>\n",
              "      <th>companyName</th>\n",
              "      <th>projectName</th>\n",
              "      <th>projectStatus</th>\n",
              "      <th>latitude</th>\n",
              "      <th>longitude</th>\n",
              "      <th>localityName</th>\n",
              "      <th>suburbName</th>\n",
              "      <th>cityName</th>\n",
              "      <th>propertyType</th>\n",
              "      <th>bedrooms</th>\n",
              "      <th>listingCategory</th>\n",
              "      <th>size</th>\n",
              "      <th>leadType</th>\n",
              "      <th>price</th>\n",
              "    </tr>\n",
              "  </thead>\n",
              "  <tbody>\n",
              "    <tr>\n",
              "      <th>0</th>\n",
              "      <td>17821751</td>\n",
              "      <td>BUILDER</td>\n",
              "      <td>Jai Vinayak Group</td>\n",
              "      <td>Vinayak Golden Acres</td>\n",
              "      <td>Under Construction</td>\n",
              "      <td>22.706121</td>\n",
              "      <td>88.347466</td>\n",
              "      <td>Konnagar</td>\n",
              "      <td>Kolkata West</td>\n",
              "      <td>Kolkata</td>\n",
              "      <td>Apartment</td>\n",
              "      <td>2.0</td>\n",
              "      <td>Primary</td>\n",
              "      <td>736 sq ft</td>\n",
              "      <td>paid</td>\n",
              "      <td>1968800</td>\n",
              "    </tr>\n",
              "    <tr>\n",
              "      <th>1</th>\n",
              "      <td>17766246</td>\n",
              "      <td>BUILDER</td>\n",
              "      <td>Merlin Group</td>\n",
              "      <td>Skygaze</td>\n",
              "      <td>Under Construction</td>\n",
              "      <td>22.404371</td>\n",
              "      <td>88.412827</td>\n",
              "      <td>Chowhati</td>\n",
              "      <td>Kolkata South</td>\n",
              "      <td>Kolkata</td>\n",
              "      <td>Apartment</td>\n",
              "      <td>2.0</td>\n",
              "      <td>Primary</td>\n",
              "      <td>688 sq ft</td>\n",
              "      <td>paid</td>\n",
              "      <td>3645712</td>\n",
              "    </tr>\n",
              "    <tr>\n",
              "      <th>2</th>\n",
              "      <td>17600681</td>\n",
              "      <td>BUILDER</td>\n",
              "      <td>Bhawani Group</td>\n",
              "      <td>Bhawani Twin Towers</td>\n",
              "      <td>Ready to move</td>\n",
              "      <td>22.588308</td>\n",
              "      <td>88.335579</td>\n",
              "      <td>Howrah</td>\n",
              "      <td>Kolkata West</td>\n",
              "      <td>Kolkata</td>\n",
              "      <td>Apartment</td>\n",
              "      <td>2.0</td>\n",
              "      <td>Primary</td>\n",
              "      <td>1,040 sq ft</td>\n",
              "      <td>paid</td>\n",
              "      <td>6159920</td>\n",
              "    </tr>\n",
              "    <tr>\n",
              "      <th>3</th>\n",
              "      <td>17373553</td>\n",
              "      <td>BUILDER</td>\n",
              "      <td>Signum Group</td>\n",
              "      <td>Parkwoods Estate Phase II</td>\n",
              "      <td>Under Construction</td>\n",
              "      <td>22.846354</td>\n",
              "      <td>88.344589</td>\n",
              "      <td>Mankundu</td>\n",
              "      <td>Kolkata West</td>\n",
              "      <td>Kolkata</td>\n",
              "      <td>Apartment</td>\n",
              "      <td>2.0</td>\n",
              "      <td>Primary</td>\n",
              "      <td>642 sq ft</td>\n",
              "      <td>paid</td>\n",
              "      <td>1900320</td>\n",
              "    </tr>\n",
              "    <tr>\n",
              "      <th>4</th>\n",
              "      <td>17760296</td>\n",
              "      <td>BUILDER</td>\n",
              "      <td>Ganguly Group</td>\n",
              "      <td>4 Sight Grand Castle</td>\n",
              "      <td>Under Construction</td>\n",
              "      <td>22.454462</td>\n",
              "      <td>88.386986</td>\n",
              "      <td>Garia</td>\n",
              "      <td>Kolkata South</td>\n",
              "      <td>Kolkata</td>\n",
              "      <td>Apartment</td>\n",
              "      <td>3.0</td>\n",
              "      <td>Primary</td>\n",
              "      <td>1,439 sq ft</td>\n",
              "      <td>paid</td>\n",
              "      <td>8634000</td>\n",
              "    </tr>\n",
              "  </tbody>\n",
              "</table>\n",
              "</div>\n",
              "      <button class=\"colab-df-convert\" onclick=\"convertToInteractive('df-1b6d96d2-e68a-4c64-ad51-0f569e2af8a3')\"\n",
              "              title=\"Convert this dataframe to an interactive table.\"\n",
              "              style=\"display:none;\">\n",
              "        \n",
              "  <svg xmlns=\"http://www.w3.org/2000/svg\" height=\"24px\"viewBox=\"0 0 24 24\"\n",
              "       width=\"24px\">\n",
              "    <path d=\"M0 0h24v24H0V0z\" fill=\"none\"/>\n",
              "    <path d=\"M18.56 5.44l.94 2.06.94-2.06 2.06-.94-2.06-.94-.94-2.06-.94 2.06-2.06.94zm-11 1L8.5 8.5l.94-2.06 2.06-.94-2.06-.94L8.5 2.5l-.94 2.06-2.06.94zm10 10l.94 2.06.94-2.06 2.06-.94-2.06-.94-.94-2.06-.94 2.06-2.06.94z\"/><path d=\"M17.41 7.96l-1.37-1.37c-.4-.4-.92-.59-1.43-.59-.52 0-1.04.2-1.43.59L10.3 9.45l-7.72 7.72c-.78.78-.78 2.05 0 2.83L4 21.41c.39.39.9.59 1.41.59.51 0 1.02-.2 1.41-.59l7.78-7.78 2.81-2.81c.8-.78.8-2.07 0-2.86zM5.41 20L4 18.59l7.72-7.72 1.47 1.35L5.41 20z\"/>\n",
              "  </svg>\n",
              "      </button>\n",
              "      \n",
              "  <style>\n",
              "    .colab-df-container {\n",
              "      display:flex;\n",
              "      flex-wrap:wrap;\n",
              "      gap: 12px;\n",
              "    }\n",
              "\n",
              "    .colab-df-convert {\n",
              "      background-color: #E8F0FE;\n",
              "      border: none;\n",
              "      border-radius: 50%;\n",
              "      cursor: pointer;\n",
              "      display: none;\n",
              "      fill: #1967D2;\n",
              "      height: 32px;\n",
              "      padding: 0 0 0 0;\n",
              "      width: 32px;\n",
              "    }\n",
              "\n",
              "    .colab-df-convert:hover {\n",
              "      background-color: #E2EBFA;\n",
              "      box-shadow: 0px 1px 2px rgba(60, 64, 67, 0.3), 0px 1px 3px 1px rgba(60, 64, 67, 0.15);\n",
              "      fill: #174EA6;\n",
              "    }\n",
              "\n",
              "    [theme=dark] .colab-df-convert {\n",
              "      background-color: #3B4455;\n",
              "      fill: #D2E3FC;\n",
              "    }\n",
              "\n",
              "    [theme=dark] .colab-df-convert:hover {\n",
              "      background-color: #434B5C;\n",
              "      box-shadow: 0px 1px 3px 1px rgba(0, 0, 0, 0.15);\n",
              "      filter: drop-shadow(0px 1px 2px rgba(0, 0, 0, 0.3));\n",
              "      fill: #FFFFFF;\n",
              "    }\n",
              "  </style>\n",
              "\n",
              "      <script>\n",
              "        const buttonEl =\n",
              "          document.querySelector('#df-1b6d96d2-e68a-4c64-ad51-0f569e2af8a3 button.colab-df-convert');\n",
              "        buttonEl.style.display =\n",
              "          google.colab.kernel.accessAllowed ? 'block' : 'none';\n",
              "\n",
              "        async function convertToInteractive(key) {\n",
              "          const element = document.querySelector('#df-1b6d96d2-e68a-4c64-ad51-0f569e2af8a3');\n",
              "          const dataTable =\n",
              "            await google.colab.kernel.invokeFunction('convertToInteractive',\n",
              "                                                     [key], {});\n",
              "          if (!dataTable) return;\n",
              "\n",
              "          const docLinkHtml = 'Like what you see? Visit the ' +\n",
              "            '<a target=\"_blank\" href=https://colab.research.google.com/notebooks/data_table.ipynb>data table notebook</a>'\n",
              "            + ' to learn more about interactive tables.';\n",
              "          element.innerHTML = '';\n",
              "          dataTable['output_type'] = 'display_data';\n",
              "          await google.colab.output.renderOutput(dataTable, element);\n",
              "          const docLink = document.createElement('div');\n",
              "          docLink.innerHTML = docLinkHtml;\n",
              "          element.appendChild(docLink);\n",
              "        }\n",
              "      </script>\n",
              "    </div>\n",
              "  </div>\n",
              "  "
            ],
            "text/plain": [
              "         id sellerType        companyName  ...         size leadType    price\n",
              "0  17821751    BUILDER  Jai Vinayak Group  ...    736 sq ft     paid  1968800\n",
              "1  17766246    BUILDER       Merlin Group  ...    688 sq ft     paid  3645712\n",
              "2  17600681    BUILDER      Bhawani Group  ...  1,040 sq ft     paid  6159920\n",
              "3  17373553    BUILDER       Signum Group  ...    642 sq ft     paid  1900320\n",
              "4  17760296    BUILDER      Ganguly Group  ...  1,439 sq ft     paid  8634000\n",
              "\n",
              "[5 rows x 16 columns]"
            ]
          },
          "metadata": {},
          "execution_count": 102
        }
      ]
    },
    {
      "cell_type": "code",
      "source": [
        "df.to_csv('properties_clean.csv', index=False)"
      ],
      "metadata": {
        "id": "nkMQ7SwkP2D9"
      },
      "execution_count": 105,
      "outputs": []
    },
    {
      "cell_type": "code",
      "source": [
        ""
      ],
      "metadata": {
        "id": "WOdK6zUqSmhw"
      },
      "execution_count": null,
      "outputs": []
    }
  ]
}